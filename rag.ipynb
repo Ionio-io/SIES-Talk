{
 "cells": [
  {
   "cell_type": "code",
   "execution_count": null,
   "metadata": {},
   "outputs": [],
   "source": [
    "!pip install datasets\n",
    "!pip install sentence-transformers\n",
    "!pip install openai\n",
    "!pip install transformers"
   ]
  },
  {
   "cell_type": "code",
   "execution_count": 1,
   "metadata": {},
   "outputs": [],
   "source": [
    "from sentence_transformers import SentenceTransformer\n",
    "\n",
    "import datasets"
   ]
  },
  {
   "cell_type": "code",
   "execution_count": 2,
   "metadata": {},
   "outputs": [],
   "source": [
    "medembed_model = SentenceTransformer(\"abhinand/MedEmbed-small-v0.1\")"
   ]
  },
  {
   "cell_type": "code",
   "execution_count": 3,
   "metadata": {},
   "outputs": [],
   "source": [
    "bge_model = SentenceTransformer(\"BAAI/bge-small-en-v1.5\")"
   ]
  },
  {
   "cell_type": "code",
   "execution_count": 4,
   "metadata": {},
   "outputs": [
    {
     "name": "stderr",
     "output_type": "stream",
     "text": [
      "c:\\Users\\ASUS\\AppData\\Local\\Programs\\Python\\Python311\\Lib\\site-packages\\transformers\\tokenization_utils_base.py:1617: FutureWarning: `clean_up_tokenization_spaces` was not set. It will be set to `True` by default. This behavior will be deprecated in transformers v4.45, and will be then set to `False` by default. For more details check this issue: https://github.com/huggingface/transformers/issues/31884\n",
      "  warnings.warn(\n"
     ]
    }
   ],
   "source": [
    "mini_lm = SentenceTransformer(\"sentence-transformers/all-MiniLM-L6-v2\")"
   ]
  },
  {
   "cell_type": "code",
   "execution_count": 5,
   "metadata": {},
   "outputs": [],
   "source": [
    "data = datasets.load_dataset('xhluca/publichealth-qa', split='test', name='english')"
   ]
  },
  {
   "cell_type": "code",
   "execution_count": 6,
   "metadata": {},
   "outputs": [],
   "source": [
    "answers = data.to_pandas()['answer'].to_list()"
   ]
  },
  {
   "cell_type": "code",
   "execution_count": 7,
   "metadata": {},
   "outputs": [
    {
     "name": "stderr",
     "output_type": "stream",
     "text": [
      "c:\\Users\\ASUS\\AppData\\Local\\Programs\\Python\\Python311\\Lib\\site-packages\\transformers\\models\\bert\\modeling_bert.py:440: UserWarning: 1Torch was not compiled with flash attention. (Triggered internally at C:\\actions-runner\\_work\\pytorch\\pytorch\\builder\\windows\\pytorch\\aten\\src\\ATen\\native\\transformers\\cuda\\sdp_utils.cpp:555.)\n",
      "  attn_output = torch.nn.functional.scaled_dot_product_attention(\n"
     ]
    }
   ],
   "source": [
    "# Create embeddings using MedEmbed model\n",
    "medembed_answers = medembed_model.encode(answers)\n",
    "\n",
    "# Create embeddings using BGE model \n",
    "bge_answers = bge_model.encode(answers)\n",
    "\n",
    "mini_lm_answers = mini_lm.encode(answers)\n"
   ]
  },
  {
   "cell_type": "code",
   "execution_count": 14,
   "metadata": {},
   "outputs": [
    {
     "name": "stdout",
     "output_type": "stream",
     "text": [
      "Results using MedEmbed model:\n",
      "\n",
      "Score: 0.8413\n",
      "Answer: You can encourage your child to help stop the spread of COVID-19 by teaching them to do the same things everyone should do to stay healthy.\n",
      "\n",
      "Avoid close contact with people who are sick.\n",
      "Stay home when you are sick, except to get medical care.\n",
      "Cover your coughs and sneezes with a tissue and throw the tissue in the trash.\n",
      "Wash your hands often with soap and water for at least 20 seconds, especially after blowing your nose, coughing, or sneezing; going to the bathroom; and before eating or preparing food.\n",
      "If soap and water are not readily available, use an alcohol-based hand sanitizer with at least 60% alcohol. Always wash hands with soap and water if hands are visibly dirty.\n",
      "Clean and disinfect frequently touched surfaces and objects (e.g., tables, countertops, light switches, doorknobs, and cabinet handles).\n",
      "Launder items, including washable plush toys, as appropriate and in accordance with the manufacturer’s instructions. If possible, launder items using the warmest appropriate water setting for the items and dry items completely. Dirty laundry from an ill person can be washed with other people’s items.\n",
      "\n",
      "You can find additional information on preventing COVID-19 at Prevention for 2019 Novel Coronavirus and at Preventing COVID-19 Spread in Communities. Additional information on how COVID-19 is spread is available at How COVID-19 Spreads.\n",
      "More information on Children and Coronavirus Disease 2019 (COVID-19) is available online.\n",
      "\n",
      "Score: 0.8386\n",
      "Answer: \n",
      "\n",
      "The key to slowing the spread of COVID-19 is to practice social distancing. While school is out, children should not have in-person playdates with children from other households. If children are playing outside their own homes, it is essential that they remain 6 feet from anyone who is not in their own household.\n",
      "To help children maintain social connections while social distancing, help your children have supervised phone calls or video chats with their friends.\n",
      "Make sure children practice everyday preventive behaviors, such as washing their hands often with soap and water. Remember, if children meet outside of school in groups, it can put everyone at risk.\n",
      "\n",
      "Revise spring break plans if they included non-essential travel.\n",
      "\n",
      "\n",
      "Information about COVID-19 in children is somewhat limited, but current data suggest children with COVID-19 may have only mild symptoms. However, they can still pass this virus onto others who may be at higher risk, including older adults and people who have serious underlying medical conditions.\n",
      "\n",
      "\n",
      "\n",
      "Score: 0.8164\n",
      "Answer: Protection measures for everyoneStay aware of the latest information on the COVID-19 outbreak, available on the WHO website and through your national and local public health authority. Many countries around the world have seen cases of COVID-19 and several have seen outbreaks. Authorities in China and some other countries have succeeded in slowing or stopping their outbreaks. However, the situation is unpredictable so check regularly for the latest news.You can reduce your chances of being infected or spreading COVID-19 by taking some simple precautions:Regularly and thoroughly clean your hands with an alcohol-based hand rub or wash them with soap and water.Why? Washing your hands with soap and water or using alcohol-based hand rub kills viruses that may be on your hands.Maintain at least 1 metre (3 feet) distance between yourself and anyone who is coughing or sneezing.Why? When someone coughs or sneezes they spray small liquid droplets from their nose or mouth which may contain virus. If you are too close, you can breathe in the droplets, including the COVID-19 virus if the person coughing has the disease.Avoid touching eyes, nose and mouth.Why? Hands touch many surfaces and can pick up viruses. Once contaminated, hands can transfer the virus to your eyes, nose or mouth. From there, the virus can enter your body and can make you sick.Make sure you, and the people around you, follow good respiratory hygiene. This means covering your mouth and nose with your bent elbow or tissue when you cough or sneeze. Then dispose of the used tissue immediately.Why? Droplets spread virus. By following good respiratory hygiene you protect the people around you from viruses such as cold, flu and COVID-19.Stay home if you feel unwell. If you have a fever, cough and difficulty breathing, seek medical attention and call in advance. Follow the directions of your local health authority.Why? National and local authorities will have the most up to date information on the situation in your area. Calling in advance will allow your health care provider to quickly direct you to the right health facility. This will also protect you and help prevent spread of viruses and other infections.Keep up to date on thelatest COVID-19 hotspots (cities or local areas where COVID-19 isspreading widely). If possible, avoid traveling to places  – especially if you are an older personor have diabetes, heart or lung disease.Why? You have a higher chance of catching COVID-19 in one of these areas. Protection measures for persons who are in or have recently visited (past 14 days) areas where COVID-19 is spreadingFollow the guidanceoutlined above (Protectionmeasures for everyone) Self-isolate by staying at home if you begin to feel unwell, even with mild symptoms such as headache, low grade fever (37.3 C or above) and slight runny nose, until you recover. If it is essential for you to have someone bring you supplies or to go out, e.g. to buy food, then wear a mask to avoid infecting other people.Why? Avoiding contact with others and visits to medical facilities will allow these facilities to operate more effectively and help protect you and others from possible COVID-19 and other viruses.If you develop fever, coughand difficulty breathing, seek medical advice promptly as this may be dueto a respiratory infection or other serious condition. Call in advance andtell your provider of any recenttravel or contact with travelers.Why? Calling in advance will allow your health care provider to quickly direct you to the right health facility. This will also help to prevent possible spread of COVID-19 and other viruses.\n",
      "\n",
      "\n",
      " ============================================================== \n",
      "\n",
      "\n",
      "Results using MiniLM model:\n",
      "\n",
      "Score: 0.6845\n",
      "Answer: Pregnant women should take the same precautions to avoid COVID-19 infection as other people. You can help protect yourself by:Washing your hands frequently with an alcohol-based hand rub or soap and water.Keeping space between yourselves and others and avoiding crowded spaces.Avoiding touching your eyes, nose and mouth.Practicing respiratory hygiene. This means covering your mouth and nose with your bent elbow or tissue when you cough or sneeze. Then dispose of the used tissue immediately.If you have fever, cough or difficulty breathing, seek medical care early. Call before going to a health facility, and follow the directions of your local health authority. Pregnant women and women who have recently delivered – including those affected by COVID-19 - should attend their routine care appointments.\n",
      "\n",
      "Score: 0.6777\n",
      "Answer: Older adults and people who have serious underlying medical conditions are at highest risk of getting sick from COVID-19.\n",
      "\n",
      "If others in your home are at particularly high risk for severe illness from COVID-19, consider extra precautions to separate your child from those people.\n",
      "If you are unable to stay home with your child during school dismissals, carefully consider who might be best positioned to provide childcare. If someone at higher risk for COVID-19 will be providing care (older adult, such as a grandparent or someone with a serious underlying medical condition), limit your children’s contact with other people.\n",
      "Consider postponing visits or trip to see older family members and grandparents. Connect virtually or by writing letters and sending via mail.\n",
      "\n",
      "\n",
      "\n",
      "Score: 0.6729\n",
      "Answer: \n",
      "\n",
      "Watch your child for any signs of illness.\n",
      "\n",
      "If you see any sign of illness consistent with symptoms of COVID-19, particularly fever, cough, or shortness of breath, call your healthcare provider and keep your child at home and away from others as much as possible. Follow CDC’s guidance on “What to do if you are sick.”\n",
      "\n",
      "\n",
      "Watch for signs of stress in your child.\n",
      "\n",
      "Some common changes to watch for include excessive worry or sadness, unhealthy eating or sleeping habits, and difficulty with attention and concentration. For more information, see the “For Parents” section on CDC’s website, Manage Anxiety and Stress.\n",
      "Take time to talk with your child or teen about the COVID-19 outbreak. Answer questions and share facts about COVID-19 in a way that your child or teen can understand.\n",
      "Go to CDC’s Helping Children Cope with Emergencies or Talking with Children About COVID-19 for more information.\n",
      "\n",
      "\n",
      "Teach and reinforce everyday preventive actions.\n",
      "\n",
      "Parents and caretakers play an important role in teaching children to wash their hands. Explain that hand washing can keep them healthy and stop the virus from spreading to others.\n",
      "Be a good role model—if you wash your hands often, they’re more likely to do the same.\n",
      "Make handwashing a family activity.\n",
      "\n",
      "\n",
      "Help your child stay active.\n",
      "\n",
      "Encourage your child to play outdoors—it’s great for physical and mental health. Take a walk with your child or go on a bike ride.\n",
      "Use indoor activity breaks (stretch breaks, dance breaks) throughout the day to help your child stay healthy and focused.\n",
      "\n",
      "\n",
      "Help your child stay socially connected.\n",
      "\n",
      "Reach out to friends and family via phone or video chats.\n",
      "Write cards or letters to family members they may not be able to visit.\n",
      "Some schools and non-profits, such as the Collaborative for Academic, Social, and Emotional Learningexternal iconexternal icon and The Yale Center for Emotional Intelligenceexternal iconexternal icon, have resources for social and emotional learning. Check to see if your school has tips and guidelines to help support social and emotional needs of your child.\n",
      "\n",
      "\n",
      "\n",
      "\n"
     ]
    }
   ],
   "source": [
    "import numpy as np\n",
    "\n",
    "# Function to perform RAG using cosine similarity\n",
    "def get_similar_answers(query, embeddings_model, answer_embeddings, answers, top_k=3):\n",
    "    # Encode the query\n",
    "    query_embedding = embeddings_model.encode(query)\n",
    "    \n",
    "    # Calculate cosine similarities\n",
    "    similarities = embeddings_model.similarity(query_embedding.reshape(1,-1), answer_embeddings)\n",
    "    \n",
    "    # Get indices of top k similar answers\n",
    "    top_indices = np.argsort(similarities[0])[-top_k:]\n",
    "    \n",
    "    return [(answers[i], similarities[0][i].item()) for i in top_indices]\n",
    "\n",
    "# Example query\n",
    "# query = \"What is CDC doing about COVID-19?\"\n",
    "query = \"How can I protect my child from COVID-19 infection?\"\n",
    "\n",
    "print(\"Results using MedEmbed model:\")\n",
    "medembed_results = get_similar_answers(query, medembed_model, medembed_answers, answers)\n",
    "medembed_results.sort(key=lambda x: x[1], reverse=True)\n",
    "for answer, score in medembed_results:\n",
    "    print(f\"\\nScore: {score:.4f}\")\n",
    "    print(f\"Answer: {answer}\")\n",
    "    \n",
    "    \n",
    "print(\"\\n\\n ============================================================== \\n\\n\")\n",
    "\n",
    "print(\"Results using MiniLM model:\")\n",
    "mini_lm_results = get_similar_answers(query, mini_lm, mini_lm_answers, answers)\n",
    "mini_lm_results.sort(key=lambda x: x[1], reverse=True)\n",
    "for answer, score in mini_lm_results:\n",
    "    print(f\"\\nScore: {score:.4f}\")\n",
    "    print(f\"Answer: {answer}\")\n",
    "\n",
    "# print(\"\\nResults using BGE model:\")\n",
    "# bge_results = get_similar_answers(query, bge_model, bge_answers, answers)\n",
    "# bge_results.sort(key=lambda x: x[1], reverse=True)\n",
    "# for answer, score in bge_results:\n",
    "#     print(f\"\\nScore: {score:.4f}\")\n",
    "#     print(f\"Answer: {answer}\")\n"
   ]
  },
  {
   "cell_type": "code",
   "execution_count": 15,
   "metadata": {},
   "outputs": [
    {
     "name": "stdout",
     "output_type": "stream",
     "text": [
      "RAG Response using MedEmbed embeddings:\n",
      "To protect your child from COVID-19 infection, you can follow several preventive measures outlined in the context:\n",
      "\n",
      "1. **Avoid Close Contact**: Keep your child away from people who are sick. This includes avoiding in-person playdates with children from other households and ensuring they maintain a distance of at least 6 feet from anyone not in their household when playing outside.\n",
      "\n",
      "2. **Stay Home When Sick**: If your child is sick, keep them at home except to get medical care. This helps prevent spreading the virus to others.\n",
      "\n",
      "3. **Good Hygiene Practices**:\n",
      "   - Teach your child to cover their coughs and sneezes with a tissue and dispose of the tissue immediately.\n",
      "   - Encourage frequent handwashing with soap and water for at least 20 seconds, especially after blowing their nose, coughing, sneezing, using the bathroom, and before eating or preparing food. If soap and water are not available, use an alcohol-based hand sanitizer with at least 60% alcohol.\n",
      "\n",
      "4. **Clean and Disinfect**: Regularly clean and disinfect frequently touched surfaces and objects, such as tables, countertops, light switches, doorknobs, and cabinet handles.\n",
      "\n",
      "5. **Launder Items Appropriately**: Wash items, including washable plush toys, according to the manufacturer’s instructions, using the warmest appropriate water setting and drying them completely.\n",
      "\n",
      "6. **Social Distancing and Social Connections**: While practicing social distancing, help your child maintain social connections through supervised phone calls or video chats with friends.\n",
      "\n",
      "7. **Stay Informed**: Keep up to date with the latest information on COVID-19 from reliable sources like the WHO and local health authorities.\n",
      "\n",
      "By following these measures, you can help reduce the risk of your child contracting or spreading COVID-19.\n",
      "\n",
      "\n",
      " ============================================================== \n",
      "\n",
      "\n"
     ]
    }
   ],
   "source": [
    "from utils import call_openai\n",
    "\n",
    "\n",
    "# query = \"What is the function of the fibrous membrane?\"\n",
    "\n",
    "def build_rag_response(query, context_results, model=\"gpt-4o\"):\n",
    "    # Prepare context from top results\n",
    "    context = \"\\n\\n\".join([result[0] for result in context_results[:3]])\n",
    "    \n",
    "    system_prompt = \"\"\"You are a helpful medical assistant. Use the provided context to answer the user's question.\n",
    "If you cannot answer the question based on the context, say so - do not make up information.\n",
    "Always cite specific parts of the context to support your answer.\"\"\"\n",
    "\n",
    "    user_prompt = f\"\"\"Context:\n",
    "{context}\n",
    "\n",
    "Question:\n",
    "{query}\n",
    "\n",
    "Please provide a detailed answer based on the context above.\"\"\"\n",
    "\n",
    "    response = call_openai(system_prompt, user_prompt, model=model)\n",
    "    return response\n",
    "\n",
    "# Test the RAG system with different embedding models\n",
    "print(\"RAG Response using MedEmbed embeddings:\")\n",
    "medembed_rag_response = build_rag_response(query, medembed_results)\n",
    "print(medembed_rag_response)\n",
    "\n",
    "print(\"\\n\\n ============================================================== \\n\\n\")\n",
    "\n",
    "# print(\"RAG Response using MiniLM embeddings:\")\n",
    "# mini_lm_rag_response = build_rag_response(query, mini_lm_results)\n",
    "# print(mini_lm_rag_response)\n"
   ]
  },
  {
   "cell_type": "code",
   "execution_count": 9,
   "metadata": {},
   "outputs": [],
   "source": [
    "# bge_results.sort(key=lambda x: x[1], reverse=True)\n",
    "# bge_results[:3]"
   ]
  },
  {
   "cell_type": "code",
   "execution_count": 10,
   "metadata": {},
   "outputs": [
    {
     "data": {
      "application/vnd.jupyter.widget-view+json": {
       "model_id": "2914806ec185458f9e5779110030f97a",
       "version_major": 2,
       "version_minor": 0
      },
      "text/plain": [
       "Resolving data files:   0%|          | 0/18 [00:00<?, ?it/s]"
      ]
     },
     "metadata": {},
     "output_type": "display_data"
    }
   ],
   "source": [
    "from datasets import load_dataset\n",
    "\n",
    "ds = load_dataset(\"MedRAG/textbooks\", split='train[:2000]')"
   ]
  },
  {
   "cell_type": "code",
   "execution_count": 11,
   "metadata": {},
   "outputs": [],
   "source": [
    "content = ds.to_pandas()['content'].to_list()\n",
    "\n",
    "# bge_content_embeddings = bge_model.encode(content)\n",
    "medembed_content_embeddings = medembed_model.encode(content)\n",
    "mini_lm_content_embeddings = mini_lm.encode(content)\n",
    "\n"
   ]
  },
  {
   "cell_type": "code",
   "execution_count": 12,
   "metadata": {},
   "outputs": [
    {
     "name": "stdout",
     "output_type": "stream",
     "text": [
      "Results using MedEmbed model:\n",
      "\n",
      "Score: 0.7023\n",
      "Answer: The fibrous membrane is formed by dense connective tissue and surrounds and stabilizes the joint. Parts of the fibrous membrane may thicken to form ligaments, which further stabilize the joint. Ligaments outside the capsule usually provide additional reinforcement. Another common but not universal feature of synovial joints is the presence of additional structures within the area enclosed by the capsule or synovial membrane, such as articular discs (usually composed of fibrocartilage), fat pads, and tendons. Articular discs absorb compression forces, adjust to changes in the contours of joint surfaces during movements, and increase the range of movements that can occur at joints. Fat pads usually occur between the synovial membrane and the capsule and move into and out of regions as joint contours change during movement. Redundant regions of the synovial membrane and fibrous membrane allow for large movements at joints. Descriptions of synovial joints based on shape and movement\n",
      "\n",
      "Score: 0.7014\n",
      "Answer: Muscles that provide dynamic support for the arches during walking include the tibialis anterior and posterior and the fibularis longus. The plantar aponeurosis is a thickening of deep fascia in the sole of the foot (Fig. 6.115). It is firmly anchored to the medial process of the calcaneal tuberosity and extends forward as a thick band of longitudinally arranged connective tissue fibers. The fibers diverge as they pass anteriorly and form digital bands, which enter the toes and connect with bones, ligaments, and dermis of the skin. Distal to the metatarsophalangeal joints, the digital bands of the plantar aponeurosis are interconnected by transverse fibers, which form superficial transverse metatarsal ligaments. The plantar aponeurosis supports the longitudinal arch of the foot and protects deeper structures in the sole. Fibrous sheaths of toes\n",
      "\n",
      "Score: 0.6982\n",
      "Answer: After a fracture has occurred, the natural response is to heal the fracture. Between the fracture margins a blood clot is formed into which new vessels grow. A jelly-like matrix is formed, and further migration of collagen-producing cells occurs. On this soft tissue framework, calcium hydroxyapatite is produced by osteoblasts and forms insoluble crystals, and then bone matrix is laid down. As more bone is produced, a callus can be demonstrated forming across the fracture site. Treatment of fractures requires a fracture line reduction. If this cannot be maintained in a plaster of Paris cast, it may require internal or external fixation with screws and metal rods (Fig. 1.16B). In the clinic\n",
      "\n",
      "\n",
      " ============================================================== \n",
      "\n",
      "\n",
      "Results using MiniLM model:\n",
      "\n",
      "Score: 0.4971\n",
      "Answer: Osteoporotic wedge fractures (Fig. 2.25) typically occur in the thoracolumbar region, and the approach to performing vertebroplasty is novel and relatively straightforward. The procedure is performed under sedation or light general anesthetic. Using X-ray guidance the pedicle is identified on the anteroposterior image. A metal cannula is placed through the pedicle into the vertebral body. Liquid bone cement is injected via the cannula into the vertebral body (Fig. 2.26). The function of the bone cement is two-fold. First, it increases the strength of the vertebral body and prevents further loss of height. Furthermore, as the bone cement sets, there is a degree of heat generated that is believed to disrupt pain nerve endings. Kyphoplasty is a similar technique that aims to restore some or all of the lost vertebral body height from the wedge fracture by injecting liquid bone cement into the vertebral body. In the clinic\n",
      "\n",
      "Score: 0.4711\n",
      "Answer: After a fracture has occurred, the natural response is to heal the fracture. Between the fracture margins a blood clot is formed into which new vessels grow. A jelly-like matrix is formed, and further migration of collagen-producing cells occurs. On this soft tissue framework, calcium hydroxyapatite is produced by osteoblasts and forms insoluble crystals, and then bone matrix is laid down. As more bone is produced, a callus can be demonstrated forming across the fracture site. Treatment of fractures requires a fracture line reduction. If this cannot be maintained in a plaster of Paris cast, it may require internal or external fixation with screws and metal rods (Fig. 1.16B). In the clinic\n",
      "\n",
      "Score: 0.4363\n",
      "Answer: The fibrous membrane is formed by dense connective tissue and surrounds and stabilizes the joint. Parts of the fibrous membrane may thicken to form ligaments, which further stabilize the joint. Ligaments outside the capsule usually provide additional reinforcement. Another common but not universal feature of synovial joints is the presence of additional structures within the area enclosed by the capsule or synovial membrane, such as articular discs (usually composed of fibrocartilage), fat pads, and tendons. Articular discs absorb compression forces, adjust to changes in the contours of joint surfaces during movements, and increase the range of movements that can occur at joints. Fat pads usually occur between the synovial membrane and the capsule and move into and out of regions as joint contours change during movement. Redundant regions of the synovial membrane and fibrous membrane allow for large movements at joints. Descriptions of synovial joints based on shape and movement\n"
     ]
    }
   ],
   "source": [
    "query = \"How do anchoring microfibrils influence cellular signaling between cementum-producing and bone-producing cells during physiological displacement?\"\n",
    "\n",
    "print(\"Results using MedEmbed model:\")\n",
    "medembed_results = get_similar_answers(query, medembed_model, medembed_content_embeddings, content)\n",
    "medembed_results.sort(key=lambda x: x[1], reverse=True)\n",
    "for answer, score in medembed_results:\n",
    "    print(f\"\\nScore: {score:.4f}\")\n",
    "    print(f\"Answer: {answer}\")\n",
    "    \n",
    "    \n",
    "# print(\"\\n\\n ============================================================== \\n\\n\")\n",
    "\n",
    "# print(\"\\nResults using BGE model:\")\n",
    "# bge_results = get_similar_answers(query, bge_model, bge_content_embeddings, content)\n",
    "# bge_results.sort(key=lambda x: x[1], reverse=True)\n",
    "# for answer, score in bge_results:\n",
    "#     print(f\"\\nScore: {score:.4f}\")\n",
    "#     print(f\"Answer: {answer}\")\n",
    "    \n",
    "    \n",
    "print(\"\\n\\n ============================================================== \\n\\n\")\n",
    "\n",
    "print(\"Results using MiniLM model:\")\n",
    "mini_lm_results = get_similar_answers(query, mini_lm, mini_lm_content_embeddings, content)\n",
    "mini_lm_results.sort(key=lambda x: x[1], reverse=True)\n",
    "for answer, score in mini_lm_results:\n",
    "    print(f\"\\nScore: {score:.4f}\")\n",
    "    print(f\"Answer: {answer}\")\n"
   ]
  },
  {
   "cell_type": "code",
   "execution_count": 13,
   "metadata": {},
   "outputs": [
    {
     "name": "stdout",
     "output_type": "stream",
     "text": [
      "RAG Response using MedEmbed embeddings:\n",
      "The fibrous membrane is formed by dense connective tissue and serves to surround and stabilize the joint. Parts of the fibrous membrane may thicken to form ligaments, which provide further stabilization to the joint. Additionally, ligaments located outside the capsule usually offer additional reinforcement. This structure is crucial for maintaining the integrity and function of synovial joints.\n",
      "\n",
      "\n",
      " ============================================================== \n",
      "\n",
      "\n",
      "RAG Response using MiniLM embeddings:\n",
      "The fibrous membrane is formed by dense connective tissue and serves to surround and stabilize the joint. It provides structural support and stability to the joint by forming a protective layer around it. Additionally, parts of the fibrous membrane may thicken to form ligaments, which further contribute to the stabilization of the joint. Ligaments outside the capsule offer additional reinforcement, ensuring that the joint remains secure and functions properly during movement.\n"
     ]
    }
   ],
   "source": [
    "from utils import call_openai\n",
    "\n",
    "\n",
    "query = \"What is the function of the fibrous membrane?\"\n",
    "\n",
    "def build_rag_response(query, context_results, model=\"gpt-4o\"):\n",
    "    # Prepare context from top results\n",
    "    context = \"\\n\\n\".join([result[0] for result in context_results[:3]])\n",
    "    \n",
    "    system_prompt = \"\"\"You are a helpful medical assistant. Use the provided context to answer the user's question.\n",
    "If you cannot answer the question based on the context, say so - do not make up information.\n",
    "Always cite specific parts of the context to support your answer.\"\"\"\n",
    "\n",
    "    user_prompt = f\"\"\"Context:\n",
    "{context}\n",
    "\n",
    "Question:\n",
    "{query}\n",
    "\n",
    "Please provide a detailed answer based on the context above.\"\"\"\n",
    "\n",
    "    response = call_openai(system_prompt, user_prompt, model=model)\n",
    "    return response\n",
    "\n",
    "# Test the RAG system with different embedding models\n",
    "print(\"RAG Response using MedEmbed embeddings:\")\n",
    "medembed_rag_response = build_rag_response(query, medembed_results)\n",
    "print(medembed_rag_response)\n",
    "\n",
    "print(\"\\n\\n ============================================================== \\n\\n\")\n",
    "\n",
    "print(\"RAG Response using MiniLM embeddings:\")\n",
    "mini_lm_rag_response = build_rag_response(query, mini_lm_results)\n",
    "print(mini_lm_rag_response)\n"
   ]
  }
 ],
 "metadata": {
  "kernelspec": {
   "display_name": "Python 3",
   "language": "python",
   "name": "python3"
  },
  "language_info": {
   "codemirror_mode": {
    "name": "ipython",
    "version": 3
   },
   "file_extension": ".py",
   "mimetype": "text/x-python",
   "name": "python",
   "nbconvert_exporter": "python",
   "pygments_lexer": "ipython3",
   "version": "3.11.4"
  }
 },
 "nbformat": 4,
 "nbformat_minor": 2
}
